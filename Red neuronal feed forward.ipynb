{
 "cells": [
  {
   "cell_type": "markdown",
   "id": "46d01e83",
   "metadata": {},
   "source": [
    "# Clasificación de estrellas con redes neuronales feedforward\n",
    "\n",
    "Clasificación de objetos (estrella, galaxia o quasar) utilizando datos científicos obtenidos del observatorio Apache Point de Nuevo México. El set de datos forma parte del proyecto Sloan Digital Sky Survey SDSS y contiene información de características espectrales.\n",
    "\n",
    "Dirección del set de datos: https://www.kaggle.com/datasets/fedesoriano/stellar-classification-dataset-sdss17<br/>\n",
    "Cantidad de registros: 100,000<br/>\n",
    "\n",
    "Descripción de las columnas:\n",
    "\n",
    "<table>\n",
    "    <thead>\n",
    "        <tr>\n",
    "            <td>#</td>\n",
    "            <td>Columna</td>\n",
    "            <td>Descripción</td>\n",
    "        </tr>\n",
    "    </thead>\n",
    "    <tbody>\n",
    "        <tr>\n",
    "            <td>1</td>\n",
    "            <td>obj_ID</td>\n",
    "            <td>Object Identifier, the unique value that identifies the object in the image catalog used by the CAS.</td>\n",
    "        </tr>\n",
    "        <tr>\n",
    "            <td>2</td>\n",
    "            <td>alpha</td>\n",
    "            <td>Right Ascension angle (at J2000 epoch).</td>\n",
    "        </tr>\n",
    "        <tr>\n",
    "            <td>3</td>\n",
    "            <td>delta</td>\n",
    "            <td>Declination angle (at J2000 epoch).</td>\n",
    "        </tr>\n",
    "        <tr>\n",
    "            <td>4</td>\n",
    "            <td>u</td>\n",
    "            <td>Ultraviolet filter in the photometric system.</td>\n",
    "        </tr>\n",
    "        <tr>\n",
    "            <td>5</td>\n",
    "            <td>g</td>\n",
    "            <td>Green filter in the photometric system.</td>\n",
    "        </tr>\n",
    "        <tr>\n",
    "            <td>6</td>\n",
    "            <td>r</td>\n",
    "            <td>Red filter in the photometric system.</td>\n",
    "        </tr>\n",
    "        <tr>\n",
    "            <td>7</td>\n",
    "            <td>i</td>\n",
    "            <td>Near Infrared filter in the photometric system.</td>\n",
    "        </tr>\n",
    "        <tr>\n",
    "            <td>8</td>\n",
    "            <td>z</td>\n",
    "            <td>Infrared filter in the photometric system.</td>\n",
    "        </tr>\n",
    "        <tr>\n",
    "            <td>9</td>\n",
    "            <td>run_ID</td>\n",
    "            <td>Run Number used to identify the specific scan.</td>\n",
    "        </tr>\n",
    "        <tr>\n",
    "            <td>10</td>\n",
    "            <td>rereun_ID</td>\n",
    "            <td>Rerun Number to specify how the image was processed.</td>\n",
    "        </tr>\n",
    "        <tr>\n",
    "            <td>11</td>\n",
    "            <td>cam_col</td>\n",
    "            <td>Camera column to identify the scanline within the run.</td>\n",
    "        </tr>\n",
    "        <tr>\n",
    "            <td>12</td>\n",
    "            <td>field_ID</td>\n",
    "            <td>Field number to identify each field.</td>\n",
    "        </tr>\n",
    "        <tr>\n",
    "            <td>13</td>\n",
    "            <td>spec_obj_ID</td>\n",
    "            <td>Unique ID used for optical spectroscopic objects (this means that 2 different observations with the same spec_obj_ID must share the output class).</td>\n",
    "        </tr>\n",
    "        <tr>\n",
    "            <td>14</td>\n",
    "            <td>class</td>\n",
    "            <td>Object class (galaxy, star or quasar object).</td>\n",
    "        </tr>\n",
    "        <tr>\n",
    "            <td>15</td>\n",
    "            <td>redshift</td>\n",
    "            <td>Redshift value based on the increase in wavelength.</td>\n",
    "        </tr>\n",
    "        <tr>\n",
    "            <td>16</td>\n",
    "            <td>plate</td>\n",
    "            <td>Plate ID, identifies each plate in SDSS.</td>\n",
    "        </tr>\n",
    "        <tr>\n",
    "            <td>17</td>\n",
    "            <td>MJD</td>\n",
    "            <td>Modified Julian Date, used to indicate when a given piece of SDSS data was taken.</td>\n",
    "        </tr>\n",
    "        <tr>\n",
    "            <td>18</td>\n",
    "            <td>fiber_ID</td>\n",
    "            <td>Fiber ID that identifies the fiber that pointed the light at the focal plane in each observation.</td>\n",
    "        </tr>\n",
    "    </tbody>\n",
    "</table>\n"
   ]
  },
  {
   "cell_type": "markdown",
   "id": "902ba716",
   "metadata": {},
   "source": [
    "# Librerías a utilizar en el proyecto"
   ]
  },
  {
   "cell_type": "code",
   "execution_count": 1,
   "id": "df2c845f",
   "metadata": {},
   "outputs": [],
   "source": [
    "import pandas as pd\n",
    "import numpy as np\n",
    "from sklearn.model_selection import train_test_split\n",
    "from sklearn.metrics import classification_report\n",
    "from tensorflow.keras.models import Sequential\n",
    "from tensorflow.keras.layers import Dense, Dropout, LeakyReLU\n",
    "from tensorflow.keras.optimizers import Adagrad\n",
    "from tensorflow.keras.metrics import Recall, BinaryAccuracy, Precision\n",
    "from tensorflow.keras.callbacks import Callback, EarlyStopping, ModelCheckpoint\n",
    "from tensorflow.keras.initializers import GlorotNormal\n",
    "import matplotlib.pyplot as plt"
   ]
  },
  {
   "cell_type": "markdown",
   "id": "1045544f",
   "metadata": {},
   "source": [
    "Evita imprimir varios logs al momento de entrenar el modelo con Keras"
   ]
  },
  {
   "cell_type": "code",
   "execution_count": 2,
   "id": "2c068513",
   "metadata": {},
   "outputs": [],
   "source": [
    "from tqdm.keras import TqdmCallback"
   ]
  },
  {
   "cell_type": "markdown",
   "id": "b577e5f6",
   "metadata": {},
   "source": [
    "# Análisis de datos"
   ]
  },
  {
   "cell_type": "markdown",
   "id": "54c68d76",
   "metadata": {},
   "source": [
    "Cargando set de datos"
   ]
  },
  {
   "cell_type": "code",
   "execution_count": 3,
   "id": "d6437557",
   "metadata": {},
   "outputs": [
    {
     "data": {
      "text/html": [
       "<div>\n",
       "<style scoped>\n",
       "    .dataframe tbody tr th:only-of-type {\n",
       "        vertical-align: middle;\n",
       "    }\n",
       "\n",
       "    .dataframe tbody tr th {\n",
       "        vertical-align: top;\n",
       "    }\n",
       "\n",
       "    .dataframe thead th {\n",
       "        text-align: right;\n",
       "    }\n",
       "</style>\n",
       "<table border=\"1\" class=\"dataframe\">\n",
       "  <thead>\n",
       "    <tr style=\"text-align: right;\">\n",
       "      <th></th>\n",
       "      <th>obj_ID</th>\n",
       "      <th>alpha</th>\n",
       "      <th>delta</th>\n",
       "      <th>u</th>\n",
       "      <th>g</th>\n",
       "      <th>r</th>\n",
       "      <th>i</th>\n",
       "      <th>z</th>\n",
       "      <th>run_ID</th>\n",
       "      <th>rerun_ID</th>\n",
       "      <th>cam_col</th>\n",
       "      <th>field_ID</th>\n",
       "      <th>spec_obj_ID</th>\n",
       "      <th>class</th>\n",
       "      <th>redshift</th>\n",
       "      <th>plate</th>\n",
       "      <th>MJD</th>\n",
       "      <th>fiber_ID</th>\n",
       "    </tr>\n",
       "  </thead>\n",
       "  <tbody>\n",
       "    <tr>\n",
       "      <th>0</th>\n",
       "      <td>1.237661e+18</td>\n",
       "      <td>135.689107</td>\n",
       "      <td>32.494632</td>\n",
       "      <td>23.87882</td>\n",
       "      <td>22.27530</td>\n",
       "      <td>20.39501</td>\n",
       "      <td>19.16573</td>\n",
       "      <td>18.79371</td>\n",
       "      <td>3606</td>\n",
       "      <td>301</td>\n",
       "      <td>2</td>\n",
       "      <td>79</td>\n",
       "      <td>6.543777e+18</td>\n",
       "      <td>GALAXY</td>\n",
       "      <td>0.634794</td>\n",
       "      <td>5812</td>\n",
       "      <td>56354</td>\n",
       "      <td>171</td>\n",
       "    </tr>\n",
       "    <tr>\n",
       "      <th>1</th>\n",
       "      <td>1.237665e+18</td>\n",
       "      <td>144.826101</td>\n",
       "      <td>31.274185</td>\n",
       "      <td>24.77759</td>\n",
       "      <td>22.83188</td>\n",
       "      <td>22.58444</td>\n",
       "      <td>21.16812</td>\n",
       "      <td>21.61427</td>\n",
       "      <td>4518</td>\n",
       "      <td>301</td>\n",
       "      <td>5</td>\n",
       "      <td>119</td>\n",
       "      <td>1.176014e+19</td>\n",
       "      <td>GALAXY</td>\n",
       "      <td>0.779136</td>\n",
       "      <td>10445</td>\n",
       "      <td>58158</td>\n",
       "      <td>427</td>\n",
       "    </tr>\n",
       "    <tr>\n",
       "      <th>2</th>\n",
       "      <td>1.237661e+18</td>\n",
       "      <td>142.188790</td>\n",
       "      <td>35.582444</td>\n",
       "      <td>25.26307</td>\n",
       "      <td>22.66389</td>\n",
       "      <td>20.60976</td>\n",
       "      <td>19.34857</td>\n",
       "      <td>18.94827</td>\n",
       "      <td>3606</td>\n",
       "      <td>301</td>\n",
       "      <td>2</td>\n",
       "      <td>120</td>\n",
       "      <td>5.152200e+18</td>\n",
       "      <td>GALAXY</td>\n",
       "      <td>0.644195</td>\n",
       "      <td>4576</td>\n",
       "      <td>55592</td>\n",
       "      <td>299</td>\n",
       "    </tr>\n",
       "    <tr>\n",
       "      <th>3</th>\n",
       "      <td>1.237663e+18</td>\n",
       "      <td>338.741038</td>\n",
       "      <td>-0.402828</td>\n",
       "      <td>22.13682</td>\n",
       "      <td>23.77656</td>\n",
       "      <td>21.61162</td>\n",
       "      <td>20.50454</td>\n",
       "      <td>19.25010</td>\n",
       "      <td>4192</td>\n",
       "      <td>301</td>\n",
       "      <td>3</td>\n",
       "      <td>214</td>\n",
       "      <td>1.030107e+19</td>\n",
       "      <td>GALAXY</td>\n",
       "      <td>0.932346</td>\n",
       "      <td>9149</td>\n",
       "      <td>58039</td>\n",
       "      <td>775</td>\n",
       "    </tr>\n",
       "    <tr>\n",
       "      <th>4</th>\n",
       "      <td>1.237680e+18</td>\n",
       "      <td>345.282593</td>\n",
       "      <td>21.183866</td>\n",
       "      <td>19.43718</td>\n",
       "      <td>17.58028</td>\n",
       "      <td>16.49747</td>\n",
       "      <td>15.97711</td>\n",
       "      <td>15.54461</td>\n",
       "      <td>8102</td>\n",
       "      <td>301</td>\n",
       "      <td>3</td>\n",
       "      <td>137</td>\n",
       "      <td>6.891865e+18</td>\n",
       "      <td>GALAXY</td>\n",
       "      <td>0.116123</td>\n",
       "      <td>6121</td>\n",
       "      <td>56187</td>\n",
       "      <td>842</td>\n",
       "    </tr>\n",
       "  </tbody>\n",
       "</table>\n",
       "</div>"
      ],
      "text/plain": [
       "         obj_ID       alpha      delta         u         g         r  \\\n",
       "0  1.237661e+18  135.689107  32.494632  23.87882  22.27530  20.39501   \n",
       "1  1.237665e+18  144.826101  31.274185  24.77759  22.83188  22.58444   \n",
       "2  1.237661e+18  142.188790  35.582444  25.26307  22.66389  20.60976   \n",
       "3  1.237663e+18  338.741038  -0.402828  22.13682  23.77656  21.61162   \n",
       "4  1.237680e+18  345.282593  21.183866  19.43718  17.58028  16.49747   \n",
       "\n",
       "          i         z  run_ID  rerun_ID  cam_col  field_ID   spec_obj_ID  \\\n",
       "0  19.16573  18.79371    3606       301        2        79  6.543777e+18   \n",
       "1  21.16812  21.61427    4518       301        5       119  1.176014e+19   \n",
       "2  19.34857  18.94827    3606       301        2       120  5.152200e+18   \n",
       "3  20.50454  19.25010    4192       301        3       214  1.030107e+19   \n",
       "4  15.97711  15.54461    8102       301        3       137  6.891865e+18   \n",
       "\n",
       "    class  redshift  plate    MJD  fiber_ID  \n",
       "0  GALAXY  0.634794   5812  56354       171  \n",
       "1  GALAXY  0.779136  10445  58158       427  \n",
       "2  GALAXY  0.644195   4576  55592       299  \n",
       "3  GALAXY  0.932346   9149  58039       775  \n",
       "4  GALAXY  0.116123   6121  56187       842  "
      ]
     },
     "execution_count": 3,
     "metadata": {},
     "output_type": "execute_result"
    }
   ],
   "source": [
    "star_classification = pd.read_csv('data1/star_classification.csv') \n",
    "star_visualization = star_classification.copy()\n",
    "star_classification.head()"
   ]
  },
  {
   "cell_type": "markdown",
   "id": "45088db9",
   "metadata": {},
   "source": [
    "Según la descripción de los datos, las siguientes columnas no aportan valor para el entrenamiento:\n",
    "\n",
    "<ul>\n",
    "    <li>obj_ID</li>\n",
    "    <li>run_ID</li>\n",
    "    <li>rerun_ID</li>\n",
    "    <li>cam_col</li>\n",
    "    <li>field_ID</li>\n",
    "    <li>spec_obj_ID</li>\n",
    "    <li>plate</li>\n",
    "    <li>MJD</li>\n",
    "    <li>fiber_ID</li>\n",
    "</ul>"
   ]
  },
  {
   "cell_type": "code",
   "execution_count": 4,
   "id": "91c3b230",
   "metadata": {},
   "outputs": [
    {
     "data": {
      "text/html": [
       "<div>\n",
       "<style scoped>\n",
       "    .dataframe tbody tr th:only-of-type {\n",
       "        vertical-align: middle;\n",
       "    }\n",
       "\n",
       "    .dataframe tbody tr th {\n",
       "        vertical-align: top;\n",
       "    }\n",
       "\n",
       "    .dataframe thead th {\n",
       "        text-align: right;\n",
       "    }\n",
       "</style>\n",
       "<table border=\"1\" class=\"dataframe\">\n",
       "  <thead>\n",
       "    <tr style=\"text-align: right;\">\n",
       "      <th></th>\n",
       "      <th>alpha</th>\n",
       "      <th>delta</th>\n",
       "      <th>u</th>\n",
       "      <th>g</th>\n",
       "      <th>r</th>\n",
       "      <th>i</th>\n",
       "      <th>z</th>\n",
       "      <th>class</th>\n",
       "      <th>redshift</th>\n",
       "    </tr>\n",
       "  </thead>\n",
       "  <tbody>\n",
       "    <tr>\n",
       "      <th>0</th>\n",
       "      <td>135.689107</td>\n",
       "      <td>32.494632</td>\n",
       "      <td>23.87882</td>\n",
       "      <td>22.27530</td>\n",
       "      <td>20.39501</td>\n",
       "      <td>19.16573</td>\n",
       "      <td>18.79371</td>\n",
       "      <td>GALAXY</td>\n",
       "      <td>0.634794</td>\n",
       "    </tr>\n",
       "    <tr>\n",
       "      <th>1</th>\n",
       "      <td>144.826101</td>\n",
       "      <td>31.274185</td>\n",
       "      <td>24.77759</td>\n",
       "      <td>22.83188</td>\n",
       "      <td>22.58444</td>\n",
       "      <td>21.16812</td>\n",
       "      <td>21.61427</td>\n",
       "      <td>GALAXY</td>\n",
       "      <td>0.779136</td>\n",
       "    </tr>\n",
       "    <tr>\n",
       "      <th>2</th>\n",
       "      <td>142.188790</td>\n",
       "      <td>35.582444</td>\n",
       "      <td>25.26307</td>\n",
       "      <td>22.66389</td>\n",
       "      <td>20.60976</td>\n",
       "      <td>19.34857</td>\n",
       "      <td>18.94827</td>\n",
       "      <td>GALAXY</td>\n",
       "      <td>0.644195</td>\n",
       "    </tr>\n",
       "    <tr>\n",
       "      <th>3</th>\n",
       "      <td>338.741038</td>\n",
       "      <td>-0.402828</td>\n",
       "      <td>22.13682</td>\n",
       "      <td>23.77656</td>\n",
       "      <td>21.61162</td>\n",
       "      <td>20.50454</td>\n",
       "      <td>19.25010</td>\n",
       "      <td>GALAXY</td>\n",
       "      <td>0.932346</td>\n",
       "    </tr>\n",
       "    <tr>\n",
       "      <th>4</th>\n",
       "      <td>345.282593</td>\n",
       "      <td>21.183866</td>\n",
       "      <td>19.43718</td>\n",
       "      <td>17.58028</td>\n",
       "      <td>16.49747</td>\n",
       "      <td>15.97711</td>\n",
       "      <td>15.54461</td>\n",
       "      <td>GALAXY</td>\n",
       "      <td>0.116123</td>\n",
       "    </tr>\n",
       "  </tbody>\n",
       "</table>\n",
       "</div>"
      ],
      "text/plain": [
       "        alpha      delta         u         g         r         i         z  \\\n",
       "0  135.689107  32.494632  23.87882  22.27530  20.39501  19.16573  18.79371   \n",
       "1  144.826101  31.274185  24.77759  22.83188  22.58444  21.16812  21.61427   \n",
       "2  142.188790  35.582444  25.26307  22.66389  20.60976  19.34857  18.94827   \n",
       "3  338.741038  -0.402828  22.13682  23.77656  21.61162  20.50454  19.25010   \n",
       "4  345.282593  21.183866  19.43718  17.58028  16.49747  15.97711  15.54461   \n",
       "\n",
       "    class  redshift  \n",
       "0  GALAXY  0.634794  \n",
       "1  GALAXY  0.779136  \n",
       "2  GALAXY  0.644195  \n",
       "3  GALAXY  0.932346  \n",
       "4  GALAXY  0.116123  "
      ]
     },
     "execution_count": 4,
     "metadata": {},
     "output_type": "execute_result"
    }
   ],
   "source": [
    "star_classification = star_classification.drop(columns=['obj_ID', 'run_ID', 'rerun_ID', 'cam_col', 'field_ID', 'spec_obj_ID', 'plate', 'MJD', 'fiber_ID'])\n",
    "star_classification.head()"
   ]
  },
  {
   "cell_type": "markdown",
   "id": "b5b83956",
   "metadata": {},
   "source": [
    "# Tratamiento de datos"
   ]
  },
  {
   "cell_type": "markdown",
   "id": "f3fdd8b5",
   "metadata": {},
   "source": [
    "One hot encoding para variable categórica"
   ]
  },
  {
   "cell_type": "code",
   "execution_count": 5,
   "id": "0e877182",
   "metadata": {},
   "outputs": [
    {
     "data": {
      "text/html": [
       "<div>\n",
       "<style scoped>\n",
       "    .dataframe tbody tr th:only-of-type {\n",
       "        vertical-align: middle;\n",
       "    }\n",
       "\n",
       "    .dataframe tbody tr th {\n",
       "        vertical-align: top;\n",
       "    }\n",
       "\n",
       "    .dataframe thead th {\n",
       "        text-align: right;\n",
       "    }\n",
       "</style>\n",
       "<table border=\"1\" class=\"dataframe\">\n",
       "  <thead>\n",
       "    <tr style=\"text-align: right;\">\n",
       "      <th></th>\n",
       "      <th>alpha</th>\n",
       "      <th>delta</th>\n",
       "      <th>u</th>\n",
       "      <th>g</th>\n",
       "      <th>r</th>\n",
       "      <th>i</th>\n",
       "      <th>z</th>\n",
       "      <th>redshift</th>\n",
       "    </tr>\n",
       "  </thead>\n",
       "  <tbody>\n",
       "    <tr>\n",
       "      <th>0</th>\n",
       "      <td>135.689107</td>\n",
       "      <td>32.494632</td>\n",
       "      <td>23.87882</td>\n",
       "      <td>22.27530</td>\n",
       "      <td>20.39501</td>\n",
       "      <td>19.16573</td>\n",
       "      <td>18.79371</td>\n",
       "      <td>0.634794</td>\n",
       "    </tr>\n",
       "    <tr>\n",
       "      <th>1</th>\n",
       "      <td>144.826101</td>\n",
       "      <td>31.274185</td>\n",
       "      <td>24.77759</td>\n",
       "      <td>22.83188</td>\n",
       "      <td>22.58444</td>\n",
       "      <td>21.16812</td>\n",
       "      <td>21.61427</td>\n",
       "      <td>0.779136</td>\n",
       "    </tr>\n",
       "    <tr>\n",
       "      <th>2</th>\n",
       "      <td>142.188790</td>\n",
       "      <td>35.582444</td>\n",
       "      <td>25.26307</td>\n",
       "      <td>22.66389</td>\n",
       "      <td>20.60976</td>\n",
       "      <td>19.34857</td>\n",
       "      <td>18.94827</td>\n",
       "      <td>0.644195</td>\n",
       "    </tr>\n",
       "    <tr>\n",
       "      <th>3</th>\n",
       "      <td>338.741038</td>\n",
       "      <td>-0.402828</td>\n",
       "      <td>22.13682</td>\n",
       "      <td>23.77656</td>\n",
       "      <td>21.61162</td>\n",
       "      <td>20.50454</td>\n",
       "      <td>19.25010</td>\n",
       "      <td>0.932346</td>\n",
       "    </tr>\n",
       "    <tr>\n",
       "      <th>4</th>\n",
       "      <td>345.282593</td>\n",
       "      <td>21.183866</td>\n",
       "      <td>19.43718</td>\n",
       "      <td>17.58028</td>\n",
       "      <td>16.49747</td>\n",
       "      <td>15.97711</td>\n",
       "      <td>15.54461</td>\n",
       "      <td>0.116123</td>\n",
       "    </tr>\n",
       "  </tbody>\n",
       "</table>\n",
       "</div>"
      ],
      "text/plain": [
       "        alpha      delta         u         g         r         i         z  \\\n",
       "0  135.689107  32.494632  23.87882  22.27530  20.39501  19.16573  18.79371   \n",
       "1  144.826101  31.274185  24.77759  22.83188  22.58444  21.16812  21.61427   \n",
       "2  142.188790  35.582444  25.26307  22.66389  20.60976  19.34857  18.94827   \n",
       "3  338.741038  -0.402828  22.13682  23.77656  21.61162  20.50454  19.25010   \n",
       "4  345.282593  21.183866  19.43718  17.58028  16.49747  15.97711  15.54461   \n",
       "\n",
       "   redshift  \n",
       "0  0.634794  \n",
       "1  0.779136  \n",
       "2  0.644195  \n",
       "3  0.932346  \n",
       "4  0.116123  "
      ]
     },
     "execution_count": 5,
     "metadata": {},
     "output_type": "execute_result"
    }
   ],
   "source": [
    "one_hot_encoding = pd.get_dummies(star_classification[\"class\"], prefix='class')\n",
    "star_classification = star_classification.drop(columns=['class'])\n",
    "star_classification.head()"
   ]
  },
  {
   "cell_type": "markdown",
   "id": "d3f572f4",
   "metadata": {},
   "source": [
    "Normalización de datos"
   ]
  },
  {
   "cell_type": "code",
   "execution_count": 6,
   "id": "caed5c2a",
   "metadata": {},
   "outputs": [
    {
     "data": {
      "text/html": [
       "<div>\n",
       "<style scoped>\n",
       "    .dataframe tbody tr th:only-of-type {\n",
       "        vertical-align: middle;\n",
       "    }\n",
       "\n",
       "    .dataframe tbody tr th {\n",
       "        vertical-align: top;\n",
       "    }\n",
       "\n",
       "    .dataframe thead th {\n",
       "        text-align: right;\n",
       "    }\n",
       "</style>\n",
       "<table border=\"1\" class=\"dataframe\">\n",
       "  <thead>\n",
       "    <tr style=\"text-align: right;\">\n",
       "      <th></th>\n",
       "      <th>alpha</th>\n",
       "      <th>delta</th>\n",
       "      <th>u</th>\n",
       "      <th>g</th>\n",
       "      <th>r</th>\n",
       "      <th>i</th>\n",
       "      <th>z</th>\n",
       "      <th>redshift</th>\n",
       "      <th>class_GALAXY</th>\n",
       "      <th>class_QSO</th>\n",
       "      <th>class_STAR</th>\n",
       "    </tr>\n",
       "  </thead>\n",
       "  <tbody>\n",
       "    <tr>\n",
       "      <th>0</th>\n",
       "      <td>-0.434604</td>\n",
       "      <td>0.425529</td>\n",
       "      <td>0.059755</td>\n",
       "      <td>0.054926</td>\n",
       "      <td>0.403962</td>\n",
       "      <td>0.046007</td>\n",
       "      <td>0.003937</td>\n",
       "      <td>0.079557</td>\n",
       "      <td>1</td>\n",
       "      <td>0</td>\n",
       "      <td>0</td>\n",
       "    </tr>\n",
       "    <tr>\n",
       "      <th>1</th>\n",
       "      <td>-0.339921</td>\n",
       "      <td>0.363402</td>\n",
       "      <td>0.088045</td>\n",
       "      <td>0.072456</td>\n",
       "      <td>1.584406</td>\n",
       "      <td>1.185097</td>\n",
       "      <td>0.092835</td>\n",
       "      <td>0.277096</td>\n",
       "      <td>1</td>\n",
       "      <td>0</td>\n",
       "      <td>0</td>\n",
       "    </tr>\n",
       "    <tr>\n",
       "      <th>2</th>\n",
       "      <td>-0.367251</td>\n",
       "      <td>0.582713</td>\n",
       "      <td>0.103327</td>\n",
       "      <td>0.067165</td>\n",
       "      <td>0.519745</td>\n",
       "      <td>0.150019</td>\n",
       "      <td>0.008808</td>\n",
       "      <td>0.092423</td>\n",
       "      <td>1</td>\n",
       "      <td>0</td>\n",
       "      <td>0</td>\n",
       "    </tr>\n",
       "    <tr>\n",
       "      <th>3</th>\n",
       "      <td>1.669523</td>\n",
       "      <td>-1.249105</td>\n",
       "      <td>0.004921</td>\n",
       "      <td>0.102210</td>\n",
       "      <td>1.059904</td>\n",
       "      <td>0.807610</td>\n",
       "      <td>0.018321</td>\n",
       "      <td>0.486770</td>\n",
       "      <td>1</td>\n",
       "      <td>0</td>\n",
       "      <td>0</td>\n",
       "    </tr>\n",
       "    <tr>\n",
       "      <th>4</th>\n",
       "      <td>1.737310</td>\n",
       "      <td>-0.150242</td>\n",
       "      <td>-0.080055</td>\n",
       "      <td>-0.092948</td>\n",
       "      <td>-1.697421</td>\n",
       "      <td>-1.767887</td>\n",
       "      <td>-0.098468</td>\n",
       "      <td>-0.630267</td>\n",
       "      <td>1</td>\n",
       "      <td>0</td>\n",
       "      <td>0</td>\n",
       "    </tr>\n",
       "  </tbody>\n",
       "</table>\n",
       "</div>"
      ],
      "text/plain": [
       "      alpha     delta         u         g         r         i         z  \\\n",
       "0 -0.434604  0.425529  0.059755  0.054926  0.403962  0.046007  0.003937   \n",
       "1 -0.339921  0.363402  0.088045  0.072456  1.584406  1.185097  0.092835   \n",
       "2 -0.367251  0.582713  0.103327  0.067165  0.519745  0.150019  0.008808   \n",
       "3  1.669523 -1.249105  0.004921  0.102210  1.059904  0.807610  0.018321   \n",
       "4  1.737310 -0.150242 -0.080055 -0.092948 -1.697421 -1.767887 -0.098468   \n",
       "\n",
       "   redshift  class_GALAXY  class_QSO  class_STAR  \n",
       "0  0.079557             1          0           0  \n",
       "1  0.277096             1          0           0  \n",
       "2  0.092423             1          0           0  \n",
       "3  0.486770             1          0           0  \n",
       "4 -0.630267             1          0           0  "
      ]
     },
     "execution_count": 6,
     "metadata": {},
     "output_type": "execute_result"
    }
   ],
   "source": [
    "mean = np.mean(star_classification, axis=0)\n",
    "std = np.std(star_classification, axis=0)\n",
    "star_classification = (star_classification - mean) / std\n",
    "star_classification = pd.concat([star_classification, one_hot_encoding], axis=1)\n",
    "star_classification.head()"
   ]
  },
  {
   "cell_type": "markdown",
   "id": "94dde6d6",
   "metadata": {},
   "source": [
    "Verificación de valores nulos"
   ]
  },
  {
   "cell_type": "code",
   "execution_count": 7,
   "id": "b8ef7ce8",
   "metadata": {},
   "outputs": [
    {
     "data": {
      "text/plain": [
       "alpha           0\n",
       "delta           0\n",
       "u               0\n",
       "g               0\n",
       "r               0\n",
       "i               0\n",
       "z               0\n",
       "redshift        0\n",
       "class_GALAXY    0\n",
       "class_QSO       0\n",
       "class_STAR      0\n",
       "dtype: int64"
      ]
     },
     "execution_count": 7,
     "metadata": {},
     "output_type": "execute_result"
    }
   ],
   "source": [
    "star_classification.isna().sum(axis=0)"
   ]
  },
  {
   "cell_type": "markdown",
   "id": "b1093c87",
   "metadata": {},
   "source": [
    "# Datos de entrenamiento y pruebas"
   ]
  },
  {
   "cell_type": "markdown",
   "id": "f7fa5752",
   "metadata": {},
   "source": [
    "Separación de datos para entrenamiento y validación"
   ]
  },
  {
   "cell_type": "code",
   "execution_count": 8,
   "id": "f645de9b",
   "metadata": {},
   "outputs": [],
   "source": [
    "columnas_x = [\"alpha\", \"delta\", \"u\", \"g\", \"r\", \"i\", \"z\", \"redshift\"]\n",
    "columnas_y = [\"class_GALAXY\", \"class_QSO\", \"class_STAR\"]\n",
    "X_train_model, X_val, y_train_model, y_val = train_test_split(\n",
    "    star_classification[columnas_x], \n",
    "    star_classification[columnas_y],\n",
    "    test_size=0.77, random_state=2022)"
   ]
  },
  {
   "cell_type": "markdown",
   "id": "4beeb074",
   "metadata": {},
   "source": [
    "Separación de datos para entrenamiento"
   ]
  },
  {
   "cell_type": "code",
   "execution_count": 9,
   "id": "2e8b3308",
   "metadata": {},
   "outputs": [],
   "source": [
    "X_train, X_test, y_train, y_test = train_test_split(\n",
    "    X_train_model, \n",
    "    y_train_model, \n",
    "    test_size=0.8, random_state=2022)"
   ]
  },
  {
   "cell_type": "markdown",
   "id": "6d83fdaa",
   "metadata": {},
   "source": [
    "Separación de datos para validación y demo"
   ]
  },
  {
   "cell_type": "code",
   "execution_count": 10,
   "id": "c0951568",
   "metadata": {},
   "outputs": [],
   "source": [
    "X_demo, X_validation, y_demo, y_validation = train_test_split(\n",
    "    X_val, \n",
    "    y_val, \n",
    "    test_size=0.15, random_state=2022)"
   ]
  },
  {
   "cell_type": "markdown",
   "id": "2ee7c7e1",
   "metadata": {},
   "source": [
    "# Modelo Keras"
   ]
  },
  {
   "cell_type": "markdown",
   "id": "2002f853",
   "metadata": {},
   "source": [
    "## Optimizador"
   ]
  },
  {
   "cell_type": "code",
   "execution_count": 11,
   "id": "da02f2c0",
   "metadata": {},
   "outputs": [],
   "source": [
    "adagrad = Adagrad( learning_rate=0.01,\n",
    "    initial_accumulator_value=0.1,\n",
    "    epsilon=1e-07,\n",
    "    name=\"Adagrad\"\n",
    ")"
   ]
  },
  {
   "cell_type": "markdown",
   "id": "0cedc329",
   "metadata": {},
   "source": [
    "## Custom callback"
   ]
  },
  {
   "cell_type": "code",
   "execution_count": 12,
   "id": "74258b6e",
   "metadata": {},
   "outputs": [],
   "source": [
    "class custom_callback(Callback):\n",
    "    def __init__(self):\n",
    "        self.f1score = 0\n",
    "    \n",
    "    def get_f1score(self):\n",
    "        return self.f1score\n",
    "    \n",
    "    def set_f1score(self, recall, precision):\n",
    "        denominador = recall + precision\n",
    "        if( denominador == 0):\n",
    "            self.f1score = 0\n",
    "        else:\n",
    "            self.f1score = (2*(recall * precision) / denominador)\n",
    "    \n",
    "    def on_epoch_end(self, batch, logs=None):\n",
    "        recall = logs.get('recall')\n",
    "        accuracy = logs.get('accuracy')\n",
    "        precision = logs.get('precision')\n",
    "        self.set_f1score(recall, precision)\n",
    "        \n",
    "        if( accuracy > 0.95 ):\n",
    "            self.model.stop_training = True"
   ]
  },
  {
   "cell_type": "markdown",
   "id": "bafc8291",
   "metadata": {},
   "source": [
    "## Modelo secuencial con sigmoid"
   ]
  },
  {
   "cell_type": "code",
   "execution_count": 13,
   "id": "f9c169cb",
   "metadata": {},
   "outputs": [
    {
     "data": {
      "application/vnd.jupyter.widget-view+json": {
       "model_id": "5f7abe80e8564508866d4bae654e75ed",
       "version_major": 2,
       "version_minor": 0
      },
      "text/plain": [
       "0epoch [00:00, ?epoch/s]"
      ]
     },
     "metadata": {},
     "output_type": "display_data"
    },
    {
     "data": {
      "application/vnd.jupyter.widget-view+json": {
       "model_id": "",
       "version_major": 2,
       "version_minor": 0
      },
      "text/plain": [
       "0batch [00:00, ?batch/s]"
      ]
     },
     "metadata": {},
     "output_type": "display_data"
    }
   ],
   "source": [
    "modelo_sigmoid = Sequential()\n",
    "modelo_sigmoid.add(Dense(4, input_shape=(8,), activation=\"sigmoid\", kernel_initializer=GlorotNormal()))\n",
    "modelo_sigmoid.add(Dropout(0.1, input_shape=(8,)))\n",
    "modelo_sigmoid.add(Dense(8, activation=\"sigmoid\", kernel_initializer=GlorotNormal()))\n",
    "modelo_sigmoid.add(Dropout(0.1, input_shape=(6,)))\n",
    "modelo_sigmoid.add(Dense(6, activation=\"sigmoid\", kernel_initializer=GlorotNormal()))\n",
    "modelo_sigmoid.add(Dropout(0.1, input_shape=(3,)))\n",
    "modelo_sigmoid.add(Dense(3, activation=\"softmax\"))\n",
    "\n",
    "callbacks_sigmoid = custom_callback()\n",
    "modelo_sigmoid.compile(\n",
    "    loss=\"categorical_crossentropy\", \n",
    "    optimizer=adagrad, \n",
    "    metrics=[Recall(name=\"recall\"), BinaryAccuracy(name=\"accuracy\"), Precision(name=\"precision\")])\n",
    "\n",
    "historial_prediccion_sigmoid = modelo_sigmoid.fit(\n",
    "    X_train, \n",
    "    y_train, \n",
    "    validation_data=(X_test, y_test), \n",
    "    epochs=20,\n",
    "    batch_size=128, \n",
    "    verbose=0, \n",
    "    callbacks=[callbacks_sigmoid, TqdmCallback(verbose=1)])"
   ]
  },
  {
   "cell_type": "code",
   "execution_count": 14,
   "id": "481f0c2d",
   "metadata": {},
   "outputs": [
    {
     "name": "stdout",
     "output_type": "stream",
     "text": [
      "Loss: 0.967513382434845\n",
      "Recall: 0.5323913097381592\n",
      "Accuracy: 0.7210870385169983\n",
      "Precision: 0.5905473828315735\n",
      "F1-Score: 0.5599634186416097\n"
     ]
    }
   ],
   "source": [
    "print(\"Loss:\", historial_prediccion_sigmoid.history[\"loss\"][-1])\n",
    "print(\"Recall:\", historial_prediccion_sigmoid.history[\"recall\"][-1])\n",
    "print(\"Accuracy:\", historial_prediccion_sigmoid.history[\"accuracy\"][-1])\n",
    "print(\"Precision:\", historial_prediccion_sigmoid.history[\"precision\"][-1])\n",
    "print(\"F1-Score:\", callbacks_sigmoid.get_f1score())"
   ]
  },
  {
   "cell_type": "markdown",
   "id": "e05fabb2",
   "metadata": {},
   "source": [
    "## Modelo secuencial con relu"
   ]
  },
  {
   "cell_type": "code",
   "execution_count": 15,
   "id": "149e9db7",
   "metadata": {},
   "outputs": [
    {
     "data": {
      "application/vnd.jupyter.widget-view+json": {
       "model_id": "9471279e1aef4aa2a0aca1c46607ff98",
       "version_major": 2,
       "version_minor": 0
      },
      "text/plain": [
       "0epoch [00:00, ?epoch/s]"
      ]
     },
     "metadata": {},
     "output_type": "display_data"
    },
    {
     "data": {
      "application/vnd.jupyter.widget-view+json": {
       "model_id": "",
       "version_major": 2,
       "version_minor": 0
      },
      "text/plain": [
       "0batch [00:00, ?batch/s]"
      ]
     },
     "metadata": {},
     "output_type": "display_data"
    }
   ],
   "source": [
    "modelo_relu = Sequential()\n",
    "modelo_relu.add(Dense(4, input_shape=(8,), activation=\"relu\", kernel_initializer=GlorotNormal()))\n",
    "modelo_relu.add(Dropout(0.1, input_shape=(8,)))\n",
    "modelo_relu.add(Dense(8, activation=\"relu\", kernel_initializer=GlorotNormal()))\n",
    "modelo_relu.add(Dropout(0.1, input_shape=(6,)))\n",
    "modelo_relu.add(Dense(6, activation=\"relu\", kernel_initializer=GlorotNormal()))\n",
    "modelo_relu.add(Dropout(0.1, input_shape=(3,)))\n",
    "modelo_relu.add(Dense(3, activation=\"softmax\"))\n",
    "\n",
    "callbacks_relu = custom_callback()\n",
    "modelo_relu.compile(\n",
    "    loss=\"categorical_crossentropy\", \n",
    "    optimizer=adagrad, \n",
    "    metrics=[Recall(name=\"recall\"), BinaryAccuracy(name=\"accuracy\"), Precision(name=\"precision\")])\n",
    "\n",
    "historial_prediccion_relu = modelo_sigmoid.fit(\n",
    "    X_train, \n",
    "    y_train, \n",
    "    validation_data=(X_test, y_test), \n",
    "    epochs=20,\n",
    "    batch_size=128, \n",
    "    verbose=0, \n",
    "    callbacks=[callbacks_relu, TqdmCallback(verbose=1)])"
   ]
  },
  {
   "cell_type": "code",
   "execution_count": 16,
   "id": "665e5890",
   "metadata": {},
   "outputs": [
    {
     "name": "stdout",
     "output_type": "stream",
     "text": [
      "Loss: 0.9642006158828735\n",
      "Recall: 0.5363043546676636\n",
      "Accuracy: 0.7213768362998962\n",
      "Precision: 0.5903326272964478\n",
      "F1-Score: 0.5620230185761342\n"
     ]
    }
   ],
   "source": [
    "print(\"Loss:\", historial_prediccion_relu.history[\"loss\"][-1])\n",
    "print(\"Recall:\", historial_prediccion_relu.history[\"recall\"][-1])\n",
    "print(\"Accuracy:\", historial_prediccion_relu.history[\"accuracy\"][-1])\n",
    "print(\"Precision:\", historial_prediccion_relu.history[\"precision\"][-1])\n",
    "print(\"F1-Score:\", callbacks_relu.get_f1score())"
   ]
  },
  {
   "cell_type": "markdown",
   "id": "ab1d7bd9",
   "metadata": {},
   "source": [
    "## Modelo secuencial con Leaky Relu"
   ]
  },
  {
   "cell_type": "code",
   "execution_count": 17,
   "id": "8ab6418b",
   "metadata": {},
   "outputs": [
    {
     "data": {
      "application/vnd.jupyter.widget-view+json": {
       "model_id": "5b4eb8db4e2b4975af19bde305cd39fd",
       "version_major": 2,
       "version_minor": 0
      },
      "text/plain": [
       "0epoch [00:00, ?epoch/s]"
      ]
     },
     "metadata": {},
     "output_type": "display_data"
    },
    {
     "data": {
      "application/vnd.jupyter.widget-view+json": {
       "model_id": "",
       "version_major": 2,
       "version_minor": 0
      },
      "text/plain": [
       "0batch [00:00, ?batch/s]"
      ]
     },
     "metadata": {},
     "output_type": "display_data"
    }
   ],
   "source": [
    "modelo_leakyrelu = Sequential()\n",
    "modelo_leakyrelu.add(Dense(4, input_shape=(8,), activation=LeakyReLU(alpha=0.01), kernel_initializer=GlorotNormal()))\n",
    "modelo_leakyrelu.add(Dropout(0.1, input_shape=(8,)))\n",
    "modelo_leakyrelu.add(Dense(8, activation=LeakyReLU(alpha=0.01), kernel_initializer=GlorotNormal()))\n",
    "modelo_leakyrelu.add(Dropout(0.1, input_shape=(6,)))\n",
    "modelo_leakyrelu.add(Dense(6, activation=LeakyReLU(alpha=0.01), kernel_initializer=GlorotNormal()))\n",
    "modelo_leakyrelu.add(Dropout(0.1, input_shape=(3,)))\n",
    "modelo_leakyrelu.add(Dense(3, activation=\"softmax\"))\n",
    "\n",
    "callbacks_leakyrelu = custom_callback()\n",
    "modelo_leakyrelu.compile(\n",
    "    loss=\"categorical_crossentropy\", \n",
    "    optimizer=adagrad, \n",
    "    metrics=[Recall(name=\"recall\"), BinaryAccuracy(name=\"accuracy\"), Precision(name=\"precision\")])\n",
    "\n",
    "historial_prediccion_leakyrelu = modelo_sigmoid.fit(\n",
    "    X_train, \n",
    "    y_train, \n",
    "    validation_data=(X_test, y_test), \n",
    "    epochs=20,\n",
    "    batch_size=128, \n",
    "    verbose=0, \n",
    "    callbacks=[callbacks_leakyrelu, TqdmCallback(verbose=1)])"
   ]
  },
  {
   "cell_type": "code",
   "execution_count": 18,
   "id": "86cda5d4",
   "metadata": {},
   "outputs": [
    {
     "name": "stdout",
     "output_type": "stream",
     "text": [
      "Loss: 0.9629098176956177\n",
      "Recall: 0.5408695936203003\n",
      "Accuracy: 0.7223187685012817\n",
      "Precision: 0.5912547707557678\n",
      "F1-Score 0.5649409864277204\n"
     ]
    }
   ],
   "source": [
    "print(\"Loss:\", historial_prediccion_leakyrelu.history[\"loss\"][-1])\n",
    "print(\"Recall:\", historial_prediccion_leakyrelu.history[\"recall\"][-1])\n",
    "print(\"Accuracy:\", historial_prediccion_leakyrelu.history[\"accuracy\"][-1])\n",
    "print(\"Precision:\", historial_prediccion_leakyrelu.history[\"precision\"][-1])\n",
    "print(\"F1-Score\", callbacks_leakyrelu.get_f1score())"
   ]
  },
  {
   "cell_type": "markdown",
   "id": "3c5451bc",
   "metadata": {},
   "source": [
    "## Modelo secuencial con tanh (hyperbolic tangent)"
   ]
  },
  {
   "cell_type": "code",
   "execution_count": 19,
   "id": "984ca084",
   "metadata": {},
   "outputs": [
    {
     "data": {
      "application/vnd.jupyter.widget-view+json": {
       "model_id": "8b4e90330b114492b0f92a30a3d7292e",
       "version_major": 2,
       "version_minor": 0
      },
      "text/plain": [
       "0epoch [00:00, ?epoch/s]"
      ]
     },
     "metadata": {},
     "output_type": "display_data"
    },
    {
     "data": {
      "application/vnd.jupyter.widget-view+json": {
       "model_id": "",
       "version_major": 2,
       "version_minor": 0
      },
      "text/plain": [
       "0batch [00:00, ?batch/s]"
      ]
     },
     "metadata": {},
     "output_type": "display_data"
    }
   ],
   "source": [
    "modelo_tanh = Sequential()\n",
    "modelo_tanh.add(Dense(4, input_shape=(8,), activation=\"tanh\", kernel_initializer=GlorotNormal()))\n",
    "modelo_tanh.add(Dropout(0.1, input_shape=(8,)))\n",
    "modelo_tanh.add(Dense(8, activation=\"tanh\", kernel_initializer=GlorotNormal()))\n",
    "modelo_tanh.add(Dropout(0.1, input_shape=(6,)))\n",
    "modelo_tanh.add(Dense(6, activation=\"tanh\", kernel_initializer=GlorotNormal()))\n",
    "modelo_tanh.add(Dropout(0.1, input_shape=(3,)))\n",
    "modelo_tanh.add(Dense(3, activation=\"softmax\"))\n",
    "\n",
    "callbacks_tanh = custom_callback()\n",
    "modelo_tanh.compile(\n",
    "    loss=\"categorical_crossentropy\", \n",
    "    optimizer=adagrad, \n",
    "    metrics=[Recall(name=\"recall\"), BinaryAccuracy(name=\"accuracy\"), Precision(name=\"precision\")])\n",
    "\n",
    "historial_prediccion_tanh = modelo_tanh.fit(\n",
    "    X_train, \n",
    "    y_train, \n",
    "    validation_data=(X_test, y_test), \n",
    "    epochs=20,\n",
    "    batch_size=128, \n",
    "    verbose=0, \n",
    "    callbacks=[callbacks_tanh, TqdmCallback(verbose=1)])"
   ]
  },
  {
   "cell_type": "code",
   "execution_count": 20,
   "id": "217bc5ec",
   "metadata": {},
   "outputs": [
    {
     "name": "stdout",
     "output_type": "stream",
     "text": [
      "Loss: 0.6119504570960999\n",
      "Recall: 0.716304361820221\n",
      "Accuracy: 0.8207247257232666\n",
      "Precision: 0.7381272315979004\n",
      "F1-Score 0.727052077202592\n"
     ]
    }
   ],
   "source": [
    "print(\"Loss:\", historial_prediccion_tanh.history[\"loss\"][-1])\n",
    "print(\"Recall:\", historial_prediccion_tanh.history[\"recall\"][-1])\n",
    "print(\"Accuracy:\", historial_prediccion_tanh.history[\"accuracy\"][-1])\n",
    "print(\"Precision:\", historial_prediccion_tanh.history[\"precision\"][-1])\n",
    "print(\"F1-Score\", callbacks_tanh.get_f1score())"
   ]
  },
  {
   "cell_type": "markdown",
   "id": "7cad695a",
   "metadata": {},
   "source": [
    "## Modelo final\n",
    "\n",
    "La función de tangente hiperbolica funcionó mejor que sigmoid, relu y leaky relu por la distribución de los datos de entrenamiento. La función tangente hiperbolica tiene el codominio -1 < f(x) < 1 para -∞ < x < ∞, en este caso los datos de entrada también están en ese dominio debido a la normalización realizada.\n",
    "\n",
    "<img src=\"data1/tanh.png\" />"
   ]
  },
  {
   "cell_type": "code",
   "execution_count": 21,
   "id": "3513dc24",
   "metadata": {},
   "outputs": [
    {
     "data": {
      "application/vnd.jupyter.widget-view+json": {
       "model_id": "e16052d8a1c9458cbdd449b0ad147126",
       "version_major": 2,
       "version_minor": 0
      },
      "text/plain": [
       "0epoch [00:00, ?epoch/s]"
      ]
     },
     "metadata": {},
     "output_type": "display_data"
    },
    {
     "data": {
      "application/vnd.jupyter.widget-view+json": {
       "model_id": "",
       "version_major": 2,
       "version_minor": 0
      },
      "text/plain": [
       "0batch [00:00, ?batch/s]"
      ]
     },
     "metadata": {},
     "output_type": "display_data"
    }
   ],
   "source": [
    "modelo_final = Sequential()\n",
    "modelo_final.add(Dense(4, input_shape=(8,), activation=\"tanh\", kernel_initializer=GlorotNormal()))\n",
    "modelo_final.add(Dropout(0.1, input_shape=(8,)))\n",
    "modelo_final.add(Dense(8, activation=\"tanh\", kernel_initializer=GlorotNormal()))\n",
    "modelo_final.add(Dropout(0.1, input_shape=(6,)))\n",
    "modelo_final.add(Dense(6, activation=\"tanh\", kernel_initializer=GlorotNormal()))\n",
    "modelo_final.add(Dropout(0.1, input_shape=(3,)))\n",
    "modelo_final.add(Dense(3, activation=\"softmax\"))\n",
    "\n",
    "#Early Stop después de 100 epochs\n",
    "my_early_top = EarlyStopping(monitor='loss', patience=100)\n",
    "\n",
    "#Guardar modelo con la mejor presición\n",
    "modelo_checkpoint_callback = ModelCheckpoint(\n",
    "    filepath='data1/modelo_final',\n",
    "    save_weights_only=True,\n",
    "    monitor='val_accuracy',\n",
    "    mode='max',\n",
    "    save_best_only=True)\n",
    "\n",
    "callbacks_final = custom_callback()\n",
    "modelo_final.compile(\n",
    "    loss=\"categorical_crossentropy\", \n",
    "    optimizer=adagrad, \n",
    "    metrics=[Recall(name=\"recall\"), BinaryAccuracy(name=\"accuracy\"), Precision(name=\"precision\")])\n",
    "\n",
    "historial_prediccion_final = modelo_final.fit(\n",
    "    X_train, \n",
    "    y_train, \n",
    "    validation_data=(X_test, y_test), \n",
    "    epochs=1000,\n",
    "    batch_size=1000, \n",
    "    verbose=0, \n",
    "    callbacks=[callbacks_final, TqdmCallback(verbose=1), my_early_top, modelo_checkpoint_callback])"
   ]
  },
  {
   "cell_type": "code",
   "execution_count": 22,
   "id": "db735930",
   "metadata": {},
   "outputs": [
    {
     "name": "stdout",
     "output_type": "stream",
     "text": [
      "Loss: 0.2666434049606323\n",
      "Recall: 0.9230434894561768\n",
      "Accuracy: 0.9501447677612305\n",
      "Precision: 0.9270742535591125\n",
      "F1-Score 0.9250544806900022\n"
     ]
    }
   ],
   "source": [
    "print(\"Loss:\", historial_prediccion_final.history[\"loss\"][-1])\n",
    "print(\"Recall:\", historial_prediccion_final.history[\"recall\"][-1])\n",
    "print(\"Accuracy:\", historial_prediccion_final.history[\"accuracy\"][-1])\n",
    "print(\"Precision:\", historial_prediccion_final.history[\"precision\"][-1])\n",
    "print(\"F1-Score\", callbacks_final.get_f1score())"
   ]
  },
  {
   "cell_type": "markdown",
   "id": "01132039",
   "metadata": {},
   "source": [
    "# Predicción"
   ]
  },
  {
   "cell_type": "code",
   "execution_count": 23,
   "id": "ce19bd2c",
   "metadata": {},
   "outputs": [
    {
     "name": "stdout",
     "output_type": "stream",
     "text": [
      "              precision    recall  f1-score   support\n",
      "\n",
      "class_GALAXY       0.95      0.95      0.95      6881\n",
      "   class_QSO       0.93      0.88      0.90      2220\n",
      "  class_STAR       0.92      0.98      0.95      2449\n",
      "\n",
      "    accuracy                           0.94     11550\n",
      "   macro avg       0.94      0.94      0.94     11550\n",
      "weighted avg       0.94      0.94      0.94     11550\n",
      "\n"
     ]
    }
   ],
   "source": [
    "predicciones = modelo_final.predict(X_validation, batch_size=1000)\n",
    "print(classification_report(\n",
    "    np.array(y_validation).argmax(axis=1), \n",
    "    predicciones.argmax(axis=1), \n",
    "    target_names=y_validation.columns))"
   ]
  },
  {
   "cell_type": "markdown",
   "id": "e773a479",
   "metadata": {},
   "source": [
    "# Visualización de datos reales"
   ]
  },
  {
   "cell_type": "markdown",
   "id": "18165005",
   "metadata": {},
   "source": [
    "Los siguientes indices contiene una predicción correcta de una galaxia, un quasar y una estrella:"
   ]
  },
  {
   "cell_type": "code",
   "execution_count": 24,
   "id": "c1e56069",
   "metadata": {},
   "outputs": [
    {
     "name": "stdout",
     "output_type": "stream",
     "text": [
      "[0, 3, 9]\n"
     ]
    }
   ],
   "source": [
    "galaxia = np.argmax(y_validation.class_GALAXY==1)\n",
    "quasar = np.argmax(y_validation.class_QSO==1)\n",
    "estrella = np.argmax(y_validation.class_STAR==1)\n",
    "predicion_correcta = [galaxia, quasar, estrella]\n",
    "print( predicion_correcta )"
   ]
  },
  {
   "cell_type": "markdown",
   "id": "c0fb99fd",
   "metadata": {},
   "source": [
    "Parametros de entrada:"
   ]
  },
  {
   "cell_type": "code",
   "execution_count": 25,
   "id": "e33934db",
   "metadata": {},
   "outputs": [
    {
     "data": {
      "text/html": [
       "<div>\n",
       "<style scoped>\n",
       "    .dataframe tbody tr th:only-of-type {\n",
       "        vertical-align: middle;\n",
       "    }\n",
       "\n",
       "    .dataframe tbody tr th {\n",
       "        vertical-align: top;\n",
       "    }\n",
       "\n",
       "    .dataframe thead th {\n",
       "        text-align: right;\n",
       "    }\n",
       "</style>\n",
       "<table border=\"1\" class=\"dataframe\">\n",
       "  <thead>\n",
       "    <tr style=\"text-align: right;\">\n",
       "      <th></th>\n",
       "      <th>alpha</th>\n",
       "      <th>delta</th>\n",
       "      <th>u</th>\n",
       "      <th>g</th>\n",
       "      <th>r</th>\n",
       "      <th>i</th>\n",
       "      <th>z</th>\n",
       "      <th>redshift</th>\n",
       "    </tr>\n",
       "  </thead>\n",
       "  <tbody>\n",
       "    <tr>\n",
       "      <th>71516</th>\n",
       "      <td>249.733000</td>\n",
       "      <td>18.116355</td>\n",
       "      <td>22.34891</td>\n",
       "      <td>20.82807</td>\n",
       "      <td>19.02194</td>\n",
       "      <td>18.34502</td>\n",
       "      <td>17.99161</td>\n",
       "      <td>0.336377</td>\n",
       "    </tr>\n",
       "    <tr>\n",
       "      <th>13155</th>\n",
       "      <td>189.808522</td>\n",
       "      <td>46.621074</td>\n",
       "      <td>19.14531</td>\n",
       "      <td>19.01218</td>\n",
       "      <td>19.10750</td>\n",
       "      <td>18.91895</td>\n",
       "      <td>18.91119</td>\n",
       "      <td>1.900497</td>\n",
       "    </tr>\n",
       "    <tr>\n",
       "      <th>72991</th>\n",
       "      <td>210.204090</td>\n",
       "      <td>45.132961</td>\n",
       "      <td>20.81794</td>\n",
       "      <td>20.38485</td>\n",
       "      <td>20.27744</td>\n",
       "      <td>20.37429</td>\n",
       "      <td>20.39449</td>\n",
       "      <td>0.000336</td>\n",
       "    </tr>\n",
       "  </tbody>\n",
       "</table>\n",
       "</div>"
      ],
      "text/plain": [
       "            alpha      delta         u         g         r         i  \\\n",
       "71516  249.733000  18.116355  22.34891  20.82807  19.02194  18.34502   \n",
       "13155  189.808522  46.621074  19.14531  19.01218  19.10750  18.91895   \n",
       "72991  210.204090  45.132961  20.81794  20.38485  20.27744  20.37429   \n",
       "\n",
       "              z  redshift  \n",
       "71516  17.99161  0.336377  \n",
       "13155  18.91119  1.900497  \n",
       "72991  20.39449  0.000336  "
      ]
     },
     "execution_count": 25,
     "metadata": {},
     "output_type": "execute_result"
    }
   ],
   "source": [
    "x_visualizacion = X_validation.iloc[predicion_correcta,:]\n",
    "x_visualizacion = x_visualizacion*std + mean\n",
    "x_visualizacion"
   ]
  },
  {
   "cell_type": "markdown",
   "id": "631e5b81",
   "metadata": {},
   "source": [
    "Predicción:"
   ]
  },
  {
   "cell_type": "code",
   "execution_count": 26,
   "id": "7a77aa24",
   "metadata": {},
   "outputs": [
    {
     "data": {
      "text/html": [
       "<div>\n",
       "<style scoped>\n",
       "    .dataframe tbody tr th:only-of-type {\n",
       "        vertical-align: middle;\n",
       "    }\n",
       "\n",
       "    .dataframe tbody tr th {\n",
       "        vertical-align: top;\n",
       "    }\n",
       "\n",
       "    .dataframe thead th {\n",
       "        text-align: right;\n",
       "    }\n",
       "</style>\n",
       "<table border=\"1\" class=\"dataframe\">\n",
       "  <thead>\n",
       "    <tr style=\"text-align: right;\">\n",
       "      <th></th>\n",
       "      <th>class_GALAXY</th>\n",
       "      <th>class_QSO</th>\n",
       "      <th>class_STAR</th>\n",
       "    </tr>\n",
       "  </thead>\n",
       "  <tbody>\n",
       "    <tr>\n",
       "      <th>0</th>\n",
       "      <td>0.977616</td>\n",
       "      <td>0.018901</td>\n",
       "      <td>0.003483</td>\n",
       "    </tr>\n",
       "    <tr>\n",
       "      <th>1</th>\n",
       "      <td>0.030821</td>\n",
       "      <td>0.968965</td>\n",
       "      <td>0.000215</td>\n",
       "    </tr>\n",
       "    <tr>\n",
       "      <th>2</th>\n",
       "      <td>0.069331</td>\n",
       "      <td>0.001176</td>\n",
       "      <td>0.929493</td>\n",
       "    </tr>\n",
       "  </tbody>\n",
       "</table>\n",
       "</div>"
      ],
      "text/plain": [
       "   class_GALAXY  class_QSO  class_STAR\n",
       "0      0.977616   0.018901    0.003483\n",
       "1      0.030821   0.968965    0.000215\n",
       "2      0.069331   0.001176    0.929493"
      ]
     },
     "execution_count": 26,
     "metadata": {},
     "output_type": "execute_result"
    }
   ],
   "source": [
    "prediccion = pd.DataFrame(predicciones[predicion_correcta,:], columns=y_validation.columns)\n",
    "prediccion"
   ]
  },
  {
   "cell_type": "markdown",
   "id": "5137499a",
   "metadata": {},
   "source": [
    "Probabilidad más alta:"
   ]
  },
  {
   "cell_type": "code",
   "execution_count": 27,
   "id": "b261e7c7",
   "metadata": {},
   "outputs": [
    {
     "data": {
      "text/html": [
       "<div>\n",
       "<style scoped>\n",
       "    .dataframe tbody tr th:only-of-type {\n",
       "        vertical-align: middle;\n",
       "    }\n",
       "\n",
       "    .dataframe tbody tr th {\n",
       "        vertical-align: top;\n",
       "    }\n",
       "\n",
       "    .dataframe thead th {\n",
       "        text-align: right;\n",
       "    }\n",
       "</style>\n",
       "<table border=\"1\" class=\"dataframe\">\n",
       "  <thead>\n",
       "    <tr style=\"text-align: right;\">\n",
       "      <th></th>\n",
       "      <th>class_GALAXY</th>\n",
       "      <th>class_QSO</th>\n",
       "      <th>class_STAR</th>\n",
       "    </tr>\n",
       "  </thead>\n",
       "  <tbody>\n",
       "    <tr>\n",
       "      <th>0</th>\n",
       "      <td>1</td>\n",
       "      <td>0</td>\n",
       "      <td>0</td>\n",
       "    </tr>\n",
       "    <tr>\n",
       "      <th>1</th>\n",
       "      <td>0</td>\n",
       "      <td>1</td>\n",
       "      <td>0</td>\n",
       "    </tr>\n",
       "    <tr>\n",
       "      <th>2</th>\n",
       "      <td>0</td>\n",
       "      <td>0</td>\n",
       "      <td>1</td>\n",
       "    </tr>\n",
       "  </tbody>\n",
       "</table>\n",
       "</div>"
      ],
      "text/plain": [
       "   class_GALAXY  class_QSO  class_STAR\n",
       "0             1          0           0\n",
       "1             0          1           0\n",
       "2             0          0           1"
      ]
     },
     "execution_count": 27,
     "metadata": {},
     "output_type": "execute_result"
    }
   ],
   "source": [
    "argmax = np.array(prediccion).argmax(axis=1)\n",
    "pd_prediccion = (pd.DataFrame(predicciones[predicion_correcta,:] >= predicciones[predicion_correcta, argmax ], columns=y_validation.columns))+0\n",
    "pd_prediccion"
   ]
  },
  {
   "cell_type": "markdown",
   "id": "183ad628",
   "metadata": {},
   "source": [
    "Uniendo los parametros de entrada y la predicción:"
   ]
  },
  {
   "cell_type": "code",
   "execution_count": 28,
   "id": "f5e57922",
   "metadata": {},
   "outputs": [
    {
     "data": {
      "text/html": [
       "<div>\n",
       "<style scoped>\n",
       "    .dataframe tbody tr th:only-of-type {\n",
       "        vertical-align: middle;\n",
       "    }\n",
       "\n",
       "    .dataframe tbody tr th {\n",
       "        vertical-align: top;\n",
       "    }\n",
       "\n",
       "    .dataframe thead th {\n",
       "        text-align: right;\n",
       "    }\n",
       "</style>\n",
       "<table border=\"1\" class=\"dataframe\">\n",
       "  <thead>\n",
       "    <tr style=\"text-align: right;\">\n",
       "      <th></th>\n",
       "      <th>alpha</th>\n",
       "      <th>delta</th>\n",
       "      <th>u</th>\n",
       "      <th>g</th>\n",
       "      <th>r</th>\n",
       "      <th>i</th>\n",
       "      <th>z</th>\n",
       "      <th>redshift</th>\n",
       "      <th>class_GALAXY</th>\n",
       "      <th>class_QSO</th>\n",
       "      <th>class_STAR</th>\n",
       "    </tr>\n",
       "  </thead>\n",
       "  <tbody>\n",
       "    <tr>\n",
       "      <th>0</th>\n",
       "      <td>249.733000</td>\n",
       "      <td>18.116355</td>\n",
       "      <td>22.34891</td>\n",
       "      <td>20.82807</td>\n",
       "      <td>19.02194</td>\n",
       "      <td>18.34502</td>\n",
       "      <td>17.99161</td>\n",
       "      <td>0.336377</td>\n",
       "      <td>1</td>\n",
       "      <td>0</td>\n",
       "      <td>0</td>\n",
       "    </tr>\n",
       "    <tr>\n",
       "      <th>1</th>\n",
       "      <td>189.808522</td>\n",
       "      <td>46.621074</td>\n",
       "      <td>19.14531</td>\n",
       "      <td>19.01218</td>\n",
       "      <td>19.10750</td>\n",
       "      <td>18.91895</td>\n",
       "      <td>18.91119</td>\n",
       "      <td>1.900497</td>\n",
       "      <td>0</td>\n",
       "      <td>1</td>\n",
       "      <td>0</td>\n",
       "    </tr>\n",
       "    <tr>\n",
       "      <th>2</th>\n",
       "      <td>210.204090</td>\n",
       "      <td>45.132961</td>\n",
       "      <td>20.81794</td>\n",
       "      <td>20.38485</td>\n",
       "      <td>20.27744</td>\n",
       "      <td>20.37429</td>\n",
       "      <td>20.39449</td>\n",
       "      <td>0.000336</td>\n",
       "      <td>0</td>\n",
       "      <td>0</td>\n",
       "      <td>1</td>\n",
       "    </tr>\n",
       "  </tbody>\n",
       "</table>\n",
       "</div>"
      ],
      "text/plain": [
       "        alpha      delta         u         g         r         i         z  \\\n",
       "0  249.733000  18.116355  22.34891  20.82807  19.02194  18.34502  17.99161   \n",
       "1  189.808522  46.621074  19.14531  19.01218  19.10750  18.91895  18.91119   \n",
       "2  210.204090  45.132961  20.81794  20.38485  20.27744  20.37429  20.39449   \n",
       "\n",
       "   redshift  class_GALAXY  class_QSO  class_STAR  \n",
       "0  0.336377             1          0           0  \n",
       "1  1.900497             0          1           0  \n",
       "2  0.000336             0          0           1  "
      ]
     },
     "execution_count": 28,
     "metadata": {},
     "output_type": "execute_result"
    }
   ],
   "source": [
    "visualicacion_final = x_visualizacion.reset_index(drop=True).join(pd_prediccion)\n",
    "visualicacion_final"
   ]
  },
  {
   "cell_type": "markdown",
   "id": "3387d3ff",
   "metadata": {},
   "source": [
    "Según los datos científicos obtenidos del observatorio Apache Point de Nuevo México, del proyecto Sloan Digital Sky Survey SDSS, los objetos reales son los siguientes:"
   ]
  },
  {
   "cell_type": "markdown",
   "id": "efb6725c",
   "metadata": {},
   "source": [
    "## Galaxia"
   ]
  },
  {
   "cell_type": "markdown",
   "id": "b2bfc01e",
   "metadata": {},
   "source": [
    "<a href=\"http://skyserver.sdss.org/dr17/VisualTools/explore/summary?id=1237664887465902678\">http://skyserver.sdss.org/dr17/VisualTools/explore/summary?id=1237664887465902678</a>"
   ]
  },
  {
   "cell_type": "code",
   "execution_count": 29,
   "id": "a0c8e054",
   "metadata": {},
   "outputs": [
    {
     "data": {
      "text/plain": [
       "alpha           249.733000\n",
       "delta            18.116355\n",
       "u                22.348910\n",
       "g                20.828070\n",
       "r                19.021940\n",
       "i                18.345020\n",
       "z                17.991610\n",
       "redshift          0.336377\n",
       "class_GALAXY      1.000000\n",
       "class_QSO         0.000000\n",
       "class_STAR        0.000000\n",
       "Name: 0, dtype: float64"
      ]
     },
     "execution_count": 29,
     "metadata": {},
     "output_type": "execute_result"
    }
   ],
   "source": [
    "visualicacion_final.iloc[0,:]"
   ]
  },
  {
   "cell_type": "markdown",
   "id": "6970f5a3",
   "metadata": {},
   "source": [
    "<table>\n",
    "    <tr>\n",
    "        <td><img src=\"data1/galaxia.jpg\" ></td>\n",
    "        <td><img src=\"data1/galaxia-zoomout.png\" ></td>\n",
    "        <td><img src=\"data1/galaxia-spectrum.jpg\" ></td>\n",
    "    </tr>\n",
    "</table>"
   ]
  },
  {
   "cell_type": "markdown",
   "id": "244a1bf7",
   "metadata": {},
   "source": [
    "## Quasar"
   ]
  },
  {
   "cell_type": "markdown",
   "id": "40dc7c65",
   "metadata": {},
   "source": [
    "<a href=\"http://skyserver.sdss.org/dr17/VisualTools/explore/summary?id=1237661360757342276\">http://skyserver.sdss.org/dr17/VisualTools/explore/summary?id=1237661360757342276</a>"
   ]
  },
  {
   "cell_type": "code",
   "execution_count": 30,
   "id": "9b25e105",
   "metadata": {},
   "outputs": [
    {
     "data": {
      "text/plain": [
       "alpha           189.808522\n",
       "delta            46.621074\n",
       "u                19.145310\n",
       "g                19.012180\n",
       "r                19.107500\n",
       "i                18.918950\n",
       "z                18.911190\n",
       "redshift          1.900497\n",
       "class_GALAXY      0.000000\n",
       "class_QSO         1.000000\n",
       "class_STAR        0.000000\n",
       "Name: 1, dtype: float64"
      ]
     },
     "execution_count": 30,
     "metadata": {},
     "output_type": "execute_result"
    }
   ],
   "source": [
    "visualicacion_final.iloc[1,:]"
   ]
  },
  {
   "cell_type": "markdown",
   "id": "02107e00",
   "metadata": {},
   "source": [
    "<table>\n",
    "    <tr>\n",
    "        <td><img src=\"data1/quasar.jpg\" ></td>\n",
    "        <td><img src=\"data1/quasar-zoomout.png\" ></td>\n",
    "        <td><img src=\"data1/quasar-spectrum.jpg\" ></td>\n",
    "    </tr>\n",
    "</table>"
   ]
  },
  {
   "cell_type": "markdown",
   "id": "768c95fe",
   "metadata": {},
   "source": [
    "## Estrella"
   ]
  },
  {
   "cell_type": "markdown",
   "id": "7c593f45",
   "metadata": {},
   "source": [
    "<a href=\"http://skyserver.sdss.org/dr17/VisualTools/explore/summary?id=1237661362374181020\">http://skyserver.sdss.org/dr17/VisualTools/explore/summary?id=1237661362374181020</a>"
   ]
  },
  {
   "cell_type": "code",
   "execution_count": 31,
   "id": "def98f3b",
   "metadata": {},
   "outputs": [
    {
     "data": {
      "text/plain": [
       "alpha           210.204090\n",
       "delta            45.132961\n",
       "u                20.817940\n",
       "g                20.384850\n",
       "r                20.277440\n",
       "i                20.374290\n",
       "z                20.394490\n",
       "redshift          0.000336\n",
       "class_GALAXY      0.000000\n",
       "class_QSO         0.000000\n",
       "class_STAR        1.000000\n",
       "Name: 2, dtype: float64"
      ]
     },
     "execution_count": 31,
     "metadata": {},
     "output_type": "execute_result"
    }
   ],
   "source": [
    "visualicacion_final.iloc[2,:]"
   ]
  },
  {
   "cell_type": "markdown",
   "id": "3796005d",
   "metadata": {},
   "source": [
    "<table>\n",
    "    <tr>\n",
    "        <td><img src=\"data1/estrella.jpg\" ></td>\n",
    "        <td><img src=\"data1/estrella-zoomout.png\" ></td>\n",
    "        <td><img src=\"data1/estrella-spectrum.jpg\" ></td>\n",
    "    </tr>\n",
    "</table>"
   ]
  },
  {
   "cell_type": "markdown",
   "id": "4d13c430",
   "metadata": {},
   "source": [
    "# Guardando modelo y estadísticos"
   ]
  },
  {
   "cell_type": "code",
   "execution_count": 38,
   "id": "ca6beaaf",
   "metadata": {},
   "outputs": [],
   "source": [
    "# Guardando el Modelo\n",
    "modelo_final.save('data1/modelo/modelo_final.h5')"
   ]
  },
  {
   "cell_type": "code",
   "execution_count": 41,
   "id": "6c8a074e",
   "metadata": {},
   "outputs": [],
   "source": [
    "# Guardando estadísticos\n",
    "mean.to_csv(\"data1/modelo/mean.csv\", header=False)\n",
    "std.to_csv(\"data1/modelo/std.csv\", header=False)"
   ]
  },
  {
   "cell_type": "code",
   "execution_count": 46,
   "id": "681b1c98",
   "metadata": {},
   "outputs": [],
   "source": [
    "# Guardando datos para demo\n",
    "(X_demo*std + mean).to_csv(\"data1/modelo/X_demo.csv\", index=False)\n",
    "y_demo.to_csv(\"data1/modelo/y_demo.csv\", index=False)"
   ]
  },
  {
   "cell_type": "code",
   "execution_count": 44,
   "id": "c37ddda6",
   "metadata": {},
   "outputs": [
    {
     "data": {
      "text/plain": [
       "pandas.core.frame.DataFrame"
      ]
     },
     "execution_count": 44,
     "metadata": {},
     "output_type": "execute_result"
    }
   ],
   "source": [
    "type(X_demo)"
   ]
  }
 ],
 "metadata": {
  "kernelspec": {
   "display_name": "Python 3 (ipykernel)",
   "language": "python",
   "name": "python3"
  },
  "language_info": {
   "codemirror_mode": {
    "name": "ipython",
    "version": 3
   },
   "file_extension": ".py",
   "mimetype": "text/x-python",
   "name": "python",
   "nbconvert_exporter": "python",
   "pygments_lexer": "ipython3",
   "version": "3.9.12"
  }
 },
 "nbformat": 4,
 "nbformat_minor": 5
}
